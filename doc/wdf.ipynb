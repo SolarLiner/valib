{
 "cells": [
  {
   "cell_type": "code",
   "execution_count": 26,
   "metadata": {},
   "outputs": [],
   "source": [
    "from sympy import *\n",
    "init_printing()"
   ]
  },
  {
   "cell_type": "code",
   "execution_count": 27,
   "metadata": {},
   "outputs": [],
   "source": [
    "R = Symbol(\"R\", positive=True, real=True)\n",
    "a, b = symbols(\"a b\", real=True)\n",
    "v = (a+b)/2\n",
    "i = (a-b)/(2*R)"
   ]
  },
  {
   "cell_type": "code",
   "execution_count": 28,
   "metadata": {},
   "outputs": [
    {
     "data": {
      "image/png": "[encoded data removed]",
      "text/latex": [
       "$\\displaystyle \\frac{a - b}{2 R} = i_{sat} \\left(e^{\\frac{a + b}{2 M n v_{T}}} - e^{\\frac{- a - b}{2 N n v_{T}}}\\right)$"
      ],
      "text/plain": [
       "             ⎛   a + b        -a - b ⎞\n",
       "             ⎜ ─────────    ─────────⎟\n",
       "a - b        ⎜ 2⋅M⋅n⋅v_T    2⋅N⋅n⋅v_T⎟\n",
       "───── = iₛₐₜ⋅⎝ℯ          - ℯ         ⎠\n",
       " 2⋅R                                  "
      ]
     },
     "execution_count": 28,
     "metadata": {},
     "output_type": "execute_result"
    }
   ],
   "source": [
    "diode_expr = lambda isat, n, vt: lambda v: isat*(exp(v/(n*vt))-1)\n",
    "\n",
    "def diode_eq(isat, n, vt, M, N):\n",
    "    id = diode_expr(isat, n, vt)\n",
    "    return lambda i, v: Eq(i, id(v/M) - id(-v/N))\n",
    "\n",
    "isat, n, vt = symbols(\"i_sat n v_T\", real=True, positive=True)\n",
    "M, N = symbols(\"M N\", integer=True, positive=True)\n",
    "eq = diode_eq(isat, n, vt, M, N)(i, v).simplify()\n",
    "eq"
   ]
  },
  {
   "cell_type": "code",
   "execution_count": 29,
   "metadata": {},
   "outputs": [],
   "source": [
    "from attr import dataclass\n",
    "\n",
    "\n",
    "@dataclass(frozen=True)\n",
    "class NewtonRhapson:\n",
    "    x: Symbol\n",
    "    y: Symbol\n",
    "    iteration: Expr\n",
    "    jacobian: Expr\n",
    "    inv_jacobian: Expr\n",
    "\n",
    "    @classmethod\n",
    "    def from_expr(cls, expr: Expr, x: Symbol, y: Symbol) -> \"NewtonRhapson\":\n",
    "        j = diff(expr, y)\n",
    "        j_inv = 1/j\n",
    "        return cls(x, y, expr.simplify(), j.simplify(), j_inv.simplify())\n",
    "\n",
    "    @classmethod\n",
    "    def from_equality(cls, eq: Eq, x: Symbol, y: Symbol) -> \"NewtonRhapson\":\n",
    "        return cls.from_expr(eq.rhs - eq.lhs, x, y)"
   ]
  },
  {
   "cell_type": "code",
   "execution_count": 30,
   "metadata": {},
   "outputs": [
    {
     "data": {
      "image/png": "[encoded data removed]",
      "text/latex": [
       "$\\displaystyle \\left( \\frac{2 R i_{sat} \\left(e^{\\frac{a + b}{2 M n v_{T}}} - e^{\\frac{- a - b}{2 N n v_{T}}}\\right) - a + b}{2 R}, \\  \\frac{2 M N R n v_{T}}{M N n v_{T} + R i_{sat} \\left(M e^{- \\frac{a + b}{2 N n v_{T}}} + N e^{\\frac{a + b}{2 M n v_{T}}}\\right)}\\right)$"
      ],
      "text/plain": [
       "⎛         ⎛   a + b        -a - b ⎞                                           \n",
       "⎜         ⎜ ─────────    ─────────⎟                                           \n",
       "⎜         ⎜ 2⋅M⋅n⋅v_T    2⋅N⋅n⋅v_T⎟                                           \n",
       "⎜2⋅R⋅iₛₐₜ⋅⎝ℯ          - ℯ         ⎠ - a + b                   2⋅M⋅N⋅R⋅n⋅v_T   \n",
       "⎜──────────────────────────────────────────, ─────────────────────────────────\n",
       "⎜                   2⋅R                                         ⎛   -(a + b)  \n",
       "⎜                                                               ⎜   ───────── \n",
       "⎜                                                               ⎜   2⋅N⋅n⋅v_T \n",
       "⎝                                            M⋅N⋅n⋅v_T + R⋅iₛₐₜ⋅⎝M⋅ℯ          \n",
       "\n",
       "               ⎞\n",
       "               ⎟\n",
       "               ⎟\n",
       "               ⎟\n",
       "───────────────⎟\n",
       "       a + b  ⎞⎟\n",
       "     ─────────⎟⎟\n",
       "     2⋅M⋅n⋅v_T⎟⎟\n",
       "+ N⋅ℯ         ⎠⎠"
      ]
     },
     "execution_count": 30,
     "metadata": {},
     "output_type": "execute_result"
    }
   ],
   "source": [
    "nr = NewtonRhapson.from_equality(eq, a, b)\n",
    "nr.iteration, nr.inv_jacobian"
   ]
  },
  {
   "cell_type": "code",
   "execution_count": 31,
   "metadata": {},
   "outputs": [
    {
     "name": "stdout",
     "output_type": "stream",
     "text": [
      "x0 = a + b;\n",
      "x1 = (1_f64/2.0)/(n*v_T);\n",
      "[0.5*(2.0*R*i_sat*((x0*x1/M).exp() - (-x0*x1/N).exp()) - a + b)/R]\n"
     ]
    }
   ],
   "source": [
    "def print_code(expr: Expr):\n",
    "    vars, e = cse(expr.n())\n",
    "    for name, expr in vars:\n",
    "        yield rust_code(expr, name)\n",
    "    yield rust_code(e)\n",
    "\n",
    "print(*print_code(nr.iteration), sep=\"\\n\")"
   ]
  },
  {
   "cell_type": "code",
   "execution_count": 32,
   "metadata": {},
   "outputs": [
    {
     "name": "stdout",
     "output_type": "stream",
     "text": [
      "x0 = M*N*n*v_T;\n",
      "x1 = (1_f64/2.0)*(a + b)/(n*v_T);\n",
      "[2.0*R*x0/(R*i_sat*(M*(-x1/N).exp() + N*(x1/M).exp()) + x0)]\n"
     ]
    }
   ],
   "source": [
    "print(*print_code(nr.inv_jacobian), sep=\"\\n\")"
   ]
  },
  {
   "cell_type": "code",
   "execution_count": 33,
   "metadata": {},
   "outputs": [],
   "source": [
    "from dataclasses import dataclass, field as dfield\n",
    "from itertools import repeat\n",
    "from typing import Callable, TypeAlias\n",
    "\n",
    "import numpy as np\n",
    "\n",
    "arr: TypeAlias = np.ndarray[tuple[int], np.dtype[np.float32]]\n",
    "RootEqu: TypeAlias = Callable[[arr, arr], arr]\n",
    "\n",
    "@dataclass\n",
    "class NewtonRhapson:\n",
    "    \"\"\"Implementation of the Newton-Rhapson method.\n",
    "    Resolution is done by iterating up to n times, or when the step modifies the guess\n",
    "    by less than `tol` RMS.\"\"\"\n",
    "\n",
    "    eval: RootEqu\n",
    "    diff: RootEqu\n",
    "    n: int = 0\n",
    "    tol: float = 1e-6\n",
    "    iter: list[arr] = dfield(default_factory=list)\n",
    "\n",
    "    def __call__(self, x: arr, initial:arr|None=None) -> arr:\n",
    "        \"\"\"Evaluate the implicit equation at x, with the initial solution provided (default: 0).\"\"\"\n",
    "        if initial is None:\n",
    "            initial = np.zeros_like(x)\n",
    "        guess=np.copy(initial)\n",
    "        self.iter = []\n",
    "        it = range(self.n) if self.n > 0 else repeat(0)\n",
    "        for _ in it:\n",
    "            dy = self.diff(x, guess)\n",
    "            if rms(dy) < self.tol:\n",
    "                break\n",
    "            step = self.eval(x,guess) / dy\n",
    "            srms = rms(step)\n",
    "            if srms < self.tol:\n",
    "                break\n",
    "            # tqdm.write(f\"{i:3}: {db(srms):2.3} dB RMS\")\n",
    "            guess -= step\n",
    "            self.iter.append(np.copy(guess))\n",
    "        # print(f\"guessed within {db(srms)} dB\")\n",
    "        return guess\n",
    "\n",
    "\n",
    "class NRSymbolic(NewtonRhapson):\n",
    "    \"\"\"Implementation of the Newton-Rhapson method over a symbolic SymPy expression.\n",
    "    Resolution is done by iterating up to n times, or when the step modifies the guess\n",
    "    by less than `tol` RMS.\"\"\"\n",
    "    def __init__(self, x: Symbol, y: Symbol, expr: Expr|Eq, *args, **kwargs):\n",
    "        if isinstance(expr, Eq):\n",
    "            expr = expr.rhs - expr.lhs\n",
    "        self.expr = expr\n",
    "        self.diff = diff(self.expr, y)\n",
    "        super().__init__(lambdify([x,y], self.expr, 'scipy'), lambdify([x,y], self.diff, 'scipy'), *args, **kwargs)\n",
    "\n",
    "\n",
    "def rms(x: arr) -> float:\n",
    "    return np.sqrt(np.sum(x**2)/len(x))\n",
    "\n",
    "\n",
    "def db(x: float) -> float:\n",
    "    return 20 * np.log10(x)\n",
    "\n",
    "\n",
    "def rmsdb(x: arr) -> float:\n",
    "    return db(rms(x))\n",
    "\n",
    "@dataclass(frozen=True, unsafe_hash=True)\n",
    "class DiodeClipperConfiguration:\n",
    "    isat: float\n",
    "    n: float\n",
    "    vt: float\n",
    "    nf: int\n",
    "    nb: int\n",
    "\n",
    "    @classmethod\n",
    "    def silicon(cls, nf: int = 1, nb: int = 1, vt: float = 23e-3) -> \"DiodeClipperConfiguration\":\n",
    "        return cls(isat=4.352e-9, n=1.906, vt=vt, nf=nf, nb=nb)\n",
    "\n",
    "    @classmethod\n",
    "    def germanium(cls, nf: int = 1, nb: int = 1, vt: float = 23e-3) -> \"DiodeClipperConfiguration\":\n",
    "        return cls(isat=200e-9, n=2.109, vt=vt, nf=nf, nb=nb)\n",
    "\n",
    "    @classmethod\n",
    "    def led(cls, nf: int = 1, nb: int = 1, vt: float = 23e-3) -> \"DiodeClipperConfiguration\":\n",
    "        return cls(isat=2.96406e-12, n=2.475312, vt=vt, nf=nf, nb=nb)\n",
    "\n",
    "    def get_equation(self, v, i):\n",
    "        return diode_eq(self.isat, self.n, self.vt, self.nf, self.nb)(v, i)\n",
    "\n",
    "    def get_nr_model(self, port_resistance, *args, **kwargs):\n",
    "        a, b = symbols(\"a b\")\n",
    "        v = (a+b)/2\n",
    "        i = (a-b)/(2*port_resistance)\n",
    "        return NRSymbolic(a, b, self.get_equation(i, v), *args, **kwargs)"
   ]
  },
  {
   "cell_type": "code",
   "execution_count": 44,
   "metadata": {},
   "outputs": [
    {
     "data": {
      "image/png": "[encoded data removed]",
      "text/plain": [
       "<Figure size 640x480 with 1 Axes>"
      ]
     },
     "metadata": {},
     "output_type": "display_data"
    }
   ],
   "source": [
    "from matplotlib import pyplot as plt\n",
    "\n",
    "\n",
    "nr = DiodeClipperConfiguration.silicon().get_nr_model(49935.994196740328, n=1000)\n",
    "a = np.linspace(-6, 6, 500)\n",
    "b = nr(a, initial=-a)\n",
    "\n",
    "plt.plot(a, b)\n",
    "plt.plot(a, -a, '--')\n",
    "plt.grid(which=\"both\")\n",
    "plt.tight_layout()"
   ]
  },
  {
   "cell_type": "code",
   "execution_count": 41,
   "metadata": {},
   "outputs": [
    {
     "name": "stderr",
     "output_type": "stream",
     "text": [
      "C:\\Users\\solarliner\\AppData\\Local\\Temp\\ipykernel_23712\\2872935038.py:57: RuntimeWarning: overflow encountered in square\n",
      "  return np.sqrt(np.sum(x**2)/len(x))\n"
     ]
    },
    {
     "data": {
      "text/plain": [
       "array([8.7676])"
      ]
     },
     "execution_count": 41,
     "metadata": {},
     "output_type": "execute_result"
    }
   ],
   "source": [
    "nr(np.array([-61.588203921355905]))"
   ]
  }
 ],
 "metadata": {
  "kernelspec": {
   "display_name": ".venv",
   "language": "python",
   "name": "python3"
  },
  "language_info": {
   "codemirror_mode": {
    "name": "ipython",
    "version": 3
   },
   "file_extension": ".py",
   "mimetype": "text/x-python",
   "name": "python",
   "nbconvert_exporter": "python",
   "pygments_lexer": "ipython3",
   "version": "3.11.6"
  }
 },
 "nbformat": 4,
 "nbformat_minor": 2
}
