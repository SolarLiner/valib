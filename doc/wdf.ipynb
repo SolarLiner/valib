{
 "cells": [
  {
   "cell_type": "code",
   "execution_count": 42,
   "metadata": {},
   "outputs": [],
   "source": [
    "from sympy import *\n",
    "init_printing()"
   ]
  },
  {
   "cell_type": "code",
   "execution_count": 43,
   "metadata": {},
   "outputs": [],
   "source": [
    "R = Symbol(\"R\", positive=True, real=True)\n",
    "a, b = symbols(\"a b\", real=True)\n",
    "v = (a+b)/2\n",
    "i = (a-b)/(2*R)"
   ]
  },
  {
   "cell_type": "code",
   "execution_count": 44,
   "metadata": {},
   "outputs": [
    {
     "data": {
      "image/png": "[encoded data removed]",
      "text/latex": [
       "$\\displaystyle \\frac{a}{2} + \\frac{b}{2} = - i_{sat} \\left(-1 + e^{- \\frac{a - b}{2 N R n v_{T}}}\\right) + i_{sat} \\left(e^{\\frac{a - b}{2 M R n v_{T}}} - 1\\right)$"
      ],
      "text/plain": [
       "               ⎛       -(a - b)  ⎞        ⎛    a - b       ⎞\n",
       "               ⎜      ───────────⎟        ⎜ ───────────    ⎟\n",
       "a   b          ⎜      2⋅N⋅R⋅n⋅v_T⎟        ⎜ 2⋅M⋅R⋅n⋅v_T    ⎟\n",
       "─ + ─ = - iₛₐₜ⋅⎝-1 + ℯ           ⎠ + iₛₐₜ⋅⎝ℯ            - 1⎠\n",
       "2   2                                                       "
      ]
     },
     "execution_count": 44,
     "metadata": {},
     "output_type": "execute_result"
    }
   ],
   "source": [
    "diode_expr = lambda isat, n, vt: lambda v: isat*(exp(v/(n*vt))-1)\n",
    "\n",
    "def diode_eq(isat, n, vt, M, N):\n",
    "    id = diode_expr(isat, n, vt)\n",
    "    return lambda i, v: Eq(i, id(v/M) - id(-v/N))\n",
    "\n",
    "isat, n, vt = symbols(\"i_sat n v_T\", real=True, positive=True)\n",
    "M, N = symbols(\"M N\", integer=True, positive=True)\n",
    "diode_eq(isat, n, vt, M, N)(v, i)"
   ]
  },
  {
   "cell_type": "code",
   "execution_count": 104,
   "metadata": {},
   "outputs": [
    {
     "data": {
      "application/vnd.jupyter.widget-view+json": {
       "model_id": "d01017efa35d4db8a054285d81998c53",
       "version_major": 2,
       "version_minor": 0
      },
      "text/plain": [
       "interactive(children=(FloatSlider(value=130.0, description='r', max=350.0, min=130.0), IntSlider(value=1, desc…"
      ]
     },
     "metadata": {},
     "output_type": "display_data"
    }
   ],
   "source": [
    "from newtonrhapson import NRSymbolic\n",
    "from ipywidgets import FloatSlider, IntSlider, interact\n",
    "import numpy as np\n",
    "import matplotlib.pyplot as plt\n",
    "\n",
    "def clamp(x, a, b):\n",
    "    return np.where(x < a, a, np.where(x > b, b, x))\n",
    "\n",
    "inp = np.linspace(-4, 4, 1000)\n",
    "@interact(r=FloatSlider(min=130, max=350, step=0.1), nf=IntSlider(min=1, max=5), nb=IntSlider(min=1, max=5))\n",
    "def cell(r: float, nf: int, nb: int):\n",
    "    nr = NRSymbolic(a, b, diode_eq(200e-9, 2.109, 23e-3, nf, nb)(i, v).subs({R: r}), tol=1e-4)\n",
    "    initial = clamp(2*inp, -nb, nf) - inp\n",
    "    out = nr(inp, initial=initial)\n",
    "    plt.grid(True, which=\"both\")\n",
    "    plt.tight_layout()\n",
    "    plt.plot(inp, out)\n",
    "    plt.plot(inp, initial, '--')\n",
    "    #plt.plot(inp, -inp - nb, '--')\n",
    "    #plt.plot(inp, -inp + nf, '--')"
   ]
  },
  {
   "cell_type": "code",
   "execution_count": 63,
   "metadata": {},
   "outputs": [
    {
     "data": {
      "image/png": "[encoded data removed]",
      "text/latex": [
       "$\\displaystyle \\left( i_{sat} \\left(e^{\\frac{\\frac{a}{2} + \\frac{b}{2}}{M n v_{T}}} - 1\\right) - i_{sat} \\left(e^{\\frac{- \\frac{a}{2} - \\frac{b}{2}}{N n v_{T}}} - 1\\right) - \\frac{a - b}{2 R}, \\  \\frac{2 M N R n v_{T}}{M N n v_{T} + M R i_{sat} e^{- \\frac{a + b}{2 N n v_{T}}} + N R i_{sat} e^{\\frac{a + b}{2 M n v_{T}}}}\\right)$"
      ],
      "text/plain": [
       "⎛     ⎛  a   b     ⎞        ⎛   a   b    ⎞                                    \n",
       "⎜     ⎜  ─ + ─     ⎟        ⎜ - ─ - ─    ⎟                                    \n",
       "⎜     ⎜  2   2     ⎟        ⎜   2   2    ⎟                                    \n",
       "⎜     ⎜ ───────    ⎟        ⎜ ───────    ⎟                                    \n",
       "⎜     ⎜ M⋅n⋅v_T    ⎟        ⎜ N⋅n⋅v_T    ⎟   a - b                      2⋅M⋅N⋅\n",
       "⎜iₛₐₜ⋅⎝ℯ        - 1⎠ - iₛₐₜ⋅⎝ℯ        - 1⎠ - ─────, ──────────────────────────\n",
       "⎜                                             2⋅R                         -(a \n",
       "⎜                                                                         ────\n",
       "⎜                                                                         2⋅N⋅\n",
       "⎝                                                   M⋅N⋅n⋅v_T + M⋅R⋅iₛₐₜ⋅ℯ    \n",
       "\n",
       "                           ⎞\n",
       "                           ⎟\n",
       "                           ⎟\n",
       "                           ⎟\n",
       "R⋅n⋅v_T                    ⎟\n",
       "───────────────────────────⎟\n",
       "+ b)                a + b  ⎟\n",
       "─────             ─────────⎟\n",
       "n⋅v_T             2⋅M⋅n⋅v_T⎟\n",
       "      + N⋅R⋅iₛₐₜ⋅ℯ         ⎠"
      ]
     },
     "execution_count": 63,
     "metadata": {},
     "output_type": "execute_result"
    }
   ],
   "source": [
    "\n",
    "nr = NRSymbolic(a, b, diode_eq(isat, n, vt, M, N)(i, v))\n",
    "nr.iteration, nr.inv_differential"
   ]
  },
  {
   "cell_type": "code",
   "execution_count": 64,
   "metadata": {},
   "outputs": [
    {
     "name": "stdout",
     "output_type": "stream",
     "text": [
      "x0 = (1_f64/2.0)*a + (1_f64/2.0)*b;\n",
      "x1 = 1/(n*v_T);\n",
      "[-i_sat*(-1.0 + (-x0*x1/N).exp()) + i_sat*((x0*x1/M).exp() - 1.0) - 0.5*(a - b)/R]\n"
     ]
    }
   ],
   "source": [
    "def print_code(expr: Expr):\n",
    "    vars, e = cse(expr.n())\n",
    "    for name, expr in vars:\n",
    "        yield rust_code(expr, name)\n",
    "    result = rust_code(e)\n",
    "    if isinstance(result, str):\n",
    "        yield result\n",
    "    else:\n",
    "        yield from result\n",
    "\n",
    "print(*print_code(nr.iteration), sep=\"\\n\")"
   ]
  },
  {
   "cell_type": "code",
   "execution_count": 65,
   "metadata": {},
   "outputs": [
    {
     "name": "stdout",
     "output_type": "stream",
     "text": [
      "x0 = M*N*n*v_T;\n",
      "x1 = (1_f64/2.0)*(a + b)/(n*v_T);\n",
      "x2 = R*i_sat;\n",
      "[2.0*R*x0/(M*x2*(-x1/N).exp() + N*x2*(x1/M).exp() + x0)]\n"
     ]
    }
   ],
   "source": [
    "print(*print_code(nr.inv_differential), sep=\"\\n\")"
   ]
  }
 ],
 "metadata": {
  "kernelspec": {
   "display_name": ".venv",
   "language": "python",
   "name": "python3"
  },
  "language_info": {
   "codemirror_mode": {
    "name": "ipython",
    "version": 3
   },
   "file_extension": ".py",
   "mimetype": "text/x-python",
   "name": "python",
   "nbconvert_exporter": "python",
   "pygments_lexer": "ipython3",
   "version": "3.10.13"
  }
 },
 "nbformat": 4,
 "nbformat_minor": 2
}
