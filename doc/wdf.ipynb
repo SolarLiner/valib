{
 "cells": [
  {
   "cell_type": "code",
   "execution_count": 125,
   "metadata": {},
   "outputs": [],
   "source": [
    "from sympy import *\n",
    "init_printing()"
   ]
  },
  {
   "cell_type": "code",
   "execution_count": 145,
   "metadata": {},
   "outputs": [],
   "source": [
    "R = Symbol(\"R\", positive=True, real=True)\n",
    "#a, b = symbols(\"a b\", real=True)\n",
    "#v = (a+b)/2\n",
    "#i = (a-b)/(2*R)\n",
    "v, i = symbols(\"v i\", real=True)\n",
    "a = v + i*R\n",
    "b = v - i*R"
   ]
  },
  {
   "cell_type": "code",
   "execution_count": 149,
   "metadata": {},
   "outputs": [
    {
     "data": {
      "image/png": "[encoded data removed]",
      "text/latex": [
       "$\\displaystyle R i - v = R i + v - 2 \\operatorname{sat}{\\left(R i + v \\right)}$"
      ],
      "text/plain": [
       "R⋅i - v = R⋅i + v - 2⋅sat(R⋅i + v)"
      ]
     },
     "execution_count": 149,
     "metadata": {},
     "output_type": "execute_result"
    }
   ],
   "source": [
    "class sat(Function):\n",
    "    def inverse(self, argindex=1):\n",
    "        return asat\n",
    "\n",
    "class asat(Function):\n",
    "    def inverse(self, argindex=1):\n",
    "        return sat\n",
    "\n",
    "Eq(b, 2*sat(a) - a).simplify()"
   ]
  },
  {
   "cell_type": "code",
   "execution_count": 151,
   "metadata": {},
   "outputs": [
    {
     "data": {
      "text/plain": [
       "'-R*i + v == -R*i - v + 2*(R*i + v).tanh()'"
      ]
     },
     "execution_count": 151,
     "metadata": {},
     "output_type": "execute_result"
    }
   ],
   "source": [
    "rust_code(Eq(b, 2*tanh(a) - a))"
   ]
  }
 ],
 "metadata": {
  "kernelspec": {
   "display_name": ".venv",
   "language": "python",
   "name": "python3"
  },
  "language_info": {
   "codemirror_mode": {
    "name": "ipython",
    "version": 3
   },
   "file_extension": ".py",
   "mimetype": "text/x-python",
   "name": "python",
   "nbconvert_exporter": "python",
   "pygments_lexer": "ipython3",
   "version": "3.11.6"
  }
 },
 "nbformat": 4,
 "nbformat_minor": 2
}
