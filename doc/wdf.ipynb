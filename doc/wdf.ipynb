{
 "cells": [
  {
   "cell_type": "code",
   "execution_count": 2,
   "metadata": {},
   "outputs": [],
   "source": [
    "from sympy import *\n",
    "init_printing()"
   ]
  },
  {
   "cell_type": "code",
   "execution_count": 7,
   "metadata": {},
   "outputs": [],
   "source": [
    "R = Symbol(\"R\", positive=True, real=True)\n",
    "a, b = symbols(\"a b\", real=True)\n",
    "v = (a+b)/2\n",
    "i = (a-b)/(2*R)"
   ]
  },
  {
   "cell_type": "code",
   "execution_count": 22,
   "metadata": {},
   "outputs": [
    {
     "data": {
      "image/png": "[encoded data removed]",
      "text/latex": [
       "$\\displaystyle \\frac{a}{2} + \\frac{b}{2} = - i_{sat} \\left(-1 + e^{- \\frac{a - b}{2 N R n v_{T}}}\\right) + i_{sat} \\left(e^{\\frac{a - b}{2 M R n v_{T}}} - 1\\right)$"
      ],
      "text/plain": [
       "               ⎛       -(a - b)  ⎞        ⎛    a - b       ⎞\n",
       "               ⎜      ───────────⎟        ⎜ ───────────    ⎟\n",
       "a   b          ⎜      2⋅N⋅R⋅n⋅v_T⎟        ⎜ 2⋅M⋅R⋅n⋅v_T    ⎟\n",
       "─ + ─ = - iₛₐₜ⋅⎝-1 + ℯ           ⎠ + iₛₐₜ⋅⎝ℯ            - 1⎠\n",
       "2   2                                                       "
      ]
     },
     "execution_count": 22,
     "metadata": {},
     "output_type": "execute_result"
    }
   ],
   "source": [
    "diode_expr = lambda isat, n, vt: lambda v: isat*(exp(v/(n*vt))-1)\n",
    "\n",
    "def diode_eq(isat, n, vt, M, N):\n",
    "    id = diode_expr(isat, n, vt)\n",
    "    return lambda i, v: Eq(i, id(v/M) - id(-v/N))\n",
    "\n",
    "isat, n, vt = symbols(\"i_sat n v_T\", real=True, positive=True)\n",
    "M, N = symbols(\"M N\", integer=True, positive=True)\n",
    "diode_eq(isat, n, vt, M, N)(v, i)"
   ]
  },
  {
   "cell_type": "code",
   "execution_count": 23,
   "metadata": {},
   "outputs": [],
   "source": [
    "from attr import dataclass\n",
    "\n",
    "\n",
    "@dataclass(frozen=True)\n",
    "class NewtonRhapson:\n",
    "    x: Symbol\n",
    "    y: Symbol\n",
    "    iteration: Expr\n",
    "    jacobian: Expr\n",
    "    inv_jacobian: Expr\n",
    "\n",
    "    @classmethod\n",
    "    def from_expr(cls, expr: Expr, x: Symbol, y: Symbol) -> \"NewtonRhapson\":\n",
    "        j = diff(expr, y)\n",
    "        j_inv = 1/j\n",
    "        return cls(x, y, expr.simplify(), j.simplify(), j_inv.simplify())\n",
    "\n",
    "    @classmethod\n",
    "    def from_equality(cls, eq: Eq, x: Symbol, y: Symbol) -> \"NewtonRhapson\":\n",
    "        return cls.from_expr(eq.rhs - eq.lhs, x, y)"
   ]
  },
  {
   "cell_type": "code",
   "execution_count": 24,
   "metadata": {},
   "outputs": [
    {
     "data": {
      "image/png": "[encoded data removed]",
      "text/latex": [
       "$\\displaystyle \\left( - \\frac{a}{2} - \\frac{b}{2} + i_{sat} \\left(1 - e^{- \\frac{a - b}{2 N R n v_{T}}}\\right) + i_{sat} \\left(e^{\\frac{a - b}{2 M R n v_{T}}} - 1\\right), \\  - \\frac{2 M N R n v_{T}}{M N R n v_{T} + M i_{sat} e^{- \\frac{a - b}{2 N R n v_{T}}} + N i_{sat} e^{\\frac{a - b}{2 M R n v_{T}}}}\\right)$"
      ],
      "text/plain": [
       "⎛               ⎛      -(a - b)  ⎞        ⎛    a - b       ⎞                  \n",
       "⎜               ⎜     ───────────⎟        ⎜ ───────────    ⎟                  \n",
       "⎜  a   b        ⎜     2⋅N⋅R⋅n⋅v_T⎟        ⎜ 2⋅M⋅R⋅n⋅v_T    ⎟                  \n",
       "⎜- ─ - ─ + iₛₐₜ⋅⎝1 - ℯ           ⎠ + iₛₐₜ⋅⎝ℯ            - 1⎠, ────────────────\n",
       "⎜  2   2                                                                      \n",
       "⎜                                                                             \n",
       "⎜                                                                             \n",
       "⎝                                                             M⋅N⋅R⋅n⋅v_T + M⋅\n",
       "\n",
       "                                       ⎞\n",
       "                                       ⎟\n",
       "    -2⋅M⋅N⋅R⋅n⋅v_T                     ⎟\n",
       "───────────────────────────────────────⎟\n",
       "       -(a - b)                a - b   ⎟\n",
       "      ───────────           ───────────⎟\n",
       "      2⋅N⋅R⋅n⋅v_T           2⋅M⋅R⋅n⋅v_T⎟\n",
       "iₛₐₜ⋅ℯ            + N⋅iₛₐₜ⋅ℯ           ⎠"
      ]
     },
     "execution_count": 24,
     "metadata": {},
     "output_type": "execute_result"
    }
   ],
   "source": [
    "nr = NewtonRhapson.from_equality(diode_eq(isat, n, vt, M, N)(v, i), a, b)\n",
    "nr.iteration, nr.inv_jacobian"
   ]
  },
  {
   "cell_type": "code",
   "execution_count": 25,
   "metadata": {},
   "outputs": [
    {
     "name": "stdout",
     "output_type": "stream",
     "text": [
      "x0 = (1_f64/2.0)*(a - b)/(R*n*v_T);\n",
      "[-0.5*a - 0.5*b + i_sat*(1.0 - (-x0/N).exp()) + i_sat*((x0/M).exp() - 1.0)]\n"
     ]
    }
   ],
   "source": [
    "def print_code(expr: Expr):\n",
    "    vars, e = cse(expr.n())\n",
    "    for name, expr in vars:\n",
    "        yield rust_code(expr, name)\n",
    "    yield rust_code(e)\n",
    "\n",
    "print(*print_code(nr.iteration), sep=\"\\n\")"
   ]
  },
  {
   "cell_type": "code",
   "execution_count": 26,
   "metadata": {},
   "outputs": [
    {
     "name": "stdout",
     "output_type": "stream",
     "text": [
      "x0 = M*N*R*n*v_T;\n",
      "x1 = (1_f64/2.0)*(a - b)/(R*n*v_T);\n",
      "[-2.0*x0/(M*i_sat*(-x1/N).exp() + N*i_sat*(x1/M).exp() + x0)]\n"
     ]
    }
   ],
   "source": [
    "print(*print_code(nr.inv_jacobian), sep=\"\\n\")"
   ]
  }
 ],
 "metadata": {
  "kernelspec": {
   "display_name": ".venv",
   "language": "python",
   "name": "python3"
  },
  "language_info": {
   "codemirror_mode": {
    "name": "ipython",
    "version": 3
   },
   "file_extension": ".py",
   "mimetype": "text/x-python",
   "name": "python",
   "nbconvert_exporter": "python",
   "pygments_lexer": "ipython3",
   "version": "3.11.6"
  }
 },
 "nbformat": 4,
 "nbformat_minor": 2
}
